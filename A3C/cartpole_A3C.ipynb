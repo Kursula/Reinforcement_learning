{
 "cells": [
  {
   "cell_type": "markdown",
   "metadata": {},
   "source": [
    "### Cartpole example using A3C RL agent \n",
    "The A3C model uses loss function that has generalized advantage estimation added. "
   ]
  },
  {
   "cell_type": "code",
   "execution_count": 1,
   "metadata": {},
   "outputs": [],
   "source": [
    "%load_ext autoreload\n",
    "%autoreload 2"
   ]
  },
  {
   "cell_type": "code",
   "execution_count": 2,
   "metadata": {},
   "outputs": [],
   "source": [
    "import torch\n",
    "import torch.nn as nn\n",
    "import torch.nn.functional as F\n",
    "import torch.multiprocessing as mp\n",
    "from torch.autograd import Variable\n",
    "\n",
    "import matplotlib.pyplot as plt\n",
    "import gym\n",
    "import os\n",
    "import numpy as np\n",
    "import pandas as pd"
   ]
  },
  {
   "cell_type": "code",
   "execution_count": 3,
   "metadata": {},
   "outputs": [],
   "source": [
    "from worker import Worker\n",
    "from net import Net\n",
    "from shared_adam import SharedAdam"
   ]
  },
  {
   "cell_type": "code",
   "execution_count": 6,
   "metadata": {},
   "outputs": [],
   "source": [
    "def setup_environment(): \n",
    "    game = 'CartPole-v0'\n",
    "    env = gym.make(game)\n",
    "    env._max_episode_steps = 500\n",
    "    state_dim = env.observation_space.shape[0]\n",
    "    action_dim = env.action_space.n\n",
    "    return env, state_dim, action_dim\n",
    "    \n",
    "\n",
    "def setup_parallel_workers(max_episodes):\n",
    "    # Define shared model and optimizer\n",
    "    env, state_dim, action_dim = setup_environment()\n",
    "    shared_model = Net(state_dim, action_dim)\n",
    "    shared_model.share_memory()\n",
    "    optimizer = SharedAdam(shared_model.parameters(), lr=1e-4, betas=(0.9, 0.999))    \n",
    "\n",
    "    # Multiprocessor environment\n",
    "    os.environ[\"OMP_NUM_THREADS\"] = \"1\"\n",
    "\n",
    "    global_episode_ctr = mp.Value('i', 0)\n",
    "    res_queue = mp.Queue()\n",
    "    n_worker = mp.cpu_count()\n",
    "     \n",
    "    workers = []\n",
    "    for i in range(n_worker):\n",
    "        render = False\n",
    "\n",
    "        # Local model and environment\n",
    "        local_model = Net(state_dim, action_dim)\n",
    "        environment, _, _ = setup_environment()\n",
    "        \n",
    "        # Local worker\n",
    "        worker = Worker(\n",
    "            shared_model, \n",
    "            local_model, \n",
    "            optimizer, \n",
    "            global_episode_ctr, \n",
    "            max_episodes, \n",
    "            res_queue, \n",
    "            render, \n",
    "            environment\n",
    "        )\n",
    "        workers.append(worker)\n",
    "\n",
    "    return workers, res_queue, shared_model\n",
    "\n",
    "\n",
    "def run_parallel_training(workers, res_queue):\n",
    "\n",
    "    # Start training\n",
    "    for worker in workers:\n",
    "        worker.start()\n",
    "\n",
    "    # Collect results\n",
    "    results = [] \n",
    "    n_ready = 0\n",
    "    while True:\n",
    "        result = res_queue.get()\n",
    "        if result is not None:\n",
    "            results.append(result)\n",
    "            if result['episode'] % 25 == 0:\n",
    "                print('Episode: {} reward: {:0.1f}'.format(result['episode'], result['reward']))\n",
    "        else:\n",
    "            n_ready += 1\n",
    "        if n_ready == len(workers): \n",
    "            break\n",
    "            \n",
    "    for worker in workers:\n",
    "        worker.join()\n",
    "    \n",
    "    results = pd.DataFrame(results).sort_values(by='episode').set_index('episode')\n",
    "    return results"
   ]
  },
  {
   "cell_type": "code",
   "execution_count": 7,
   "metadata": {},
   "outputs": [
    {
     "name": "stdout",
     "output_type": "stream",
     "text": [
      "Episode: 0 reward: 26.0\n",
      "Episode: 25 reward: 15.0\n",
      "Episode: 50 reward: 17.0\n",
      "Episode: 75 reward: 27.0\n",
      "Episode: 100 reward: 43.0\n",
      "Episode: 125 reward: 40.0\n",
      "Episode: 150 reward: 47.0\n",
      "Episode: 175 reward: 84.0\n",
      "Episode: 200 reward: 107.0\n",
      "Episode: 225 reward: 74.0\n",
      "Episode: 250 reward: 138.0\n",
      "Episode: 275 reward: 227.0\n",
      "Episode: 300 reward: 500.0\n",
      "Episode: 325 reward: 302.0\n",
      "Episode: 350 reward: 173.0\n",
      "Episode: 375 reward: 191.0\n",
      "Episode: 400 reward: 306.0\n",
      "Episode: 425 reward: 134.0\n",
      "Episode: 450 reward: 181.0\n",
      "Episode: 475 reward: 180.0\n"
     ]
    }
   ],
   "source": [
    "workers, res_queue, shared_model = setup_parallel_workers(max_episodes=500)\n",
    "results = run_parallel_training(workers, res_queue)"
   ]
  },
  {
   "cell_type": "code",
   "execution_count": 8,
   "metadata": {},
   "outputs": [
    {
     "data": {
      "image/png": "[encoded data removed]",
      "text/plain": [
       "<Figure size 432x288 with 1 Axes>"
      ]
     },
     "metadata": {
      "needs_background": "light"
     },
     "output_type": "display_data"
    }
   ],
   "source": [
    "results['reward_ma'] = results['reward'].ewm(alpha=0.05).mean()   \n",
    "plt.figure()\n",
    "plt.plot(results.index.values, results['reward_ma'].values, color='blue')\n",
    "plt.plot(results.index.values, results['reward'].values, color='blue', alpha=0.2)\n",
    "plt.ylabel('Reward')\n",
    "plt.xlabel('Episode')\n",
    "plt.grid()\n",
    "plt.show()"
   ]
  },
  {
   "cell_type": "markdown",
   "metadata": {},
   "source": [
    "### Test"
   ]
  },
  {
   "cell_type": "code",
   "execution_count": 9,
   "metadata": {},
   "outputs": [
    {
     "name": "stderr",
     "output_type": "stream",
     "text": [
      "2021-12-15 23:30:16.281 Python[4072:59058] ApplePersistenceIgnoreState: Existing state will not be touched. New state will be written to (null)\n"
     ]
    },
    {
     "name": "stdout",
     "output_type": "stream",
     "text": [
      "316.0\n"
     ]
    }
   ],
   "source": [
    "game = 'CartPole-v0'\n",
    "env = gym.make(game)\n",
    "env._max_episode_steps = 500\n",
    "\n",
    "state = env.reset()\n",
    "state = torch.from_numpy(state)\n",
    "rewards = 0\n",
    "done = False        \n",
    "while not done: \n",
    "    env.render()\n",
    "    with torch.no_grad():\n",
    "        logit, value = shared_model(state.unsqueeze(0))\n",
    "    prob = F.softmax(logit, dim=-1)\n",
    "    action = np.argmax(prob.data.numpy())\n",
    "    state, reward, done, _ = env.step(action)\n",
    "    state = torch.from_numpy(state)\n",
    "    rewards += reward\n",
    "env.reset()\n",
    "env.close()\n",
    "print(rewards)"
   ]
  },
  {
   "cell_type": "code",
   "execution_count": null,
   "metadata": {},
   "outputs": [],
   "source": []
  }
 ],
 "metadata": {
  "kernelspec": {
   "display_name": "Python 3 (ipykernel)",
   "language": "python",
   "name": "python3"
  },
  "language_info": {
   "codemirror_mode": {
    "name": "ipython",
    "version": 3
   },
   "file_extension": ".py",
   "mimetype": "text/x-python",
   "name": "python",
   "nbconvert_exporter": "python",
   "pygments_lexer": "ipython3",
   "version": "3.9.9"
  }
 },
 "nbformat": 4,
 "nbformat_minor": 4
}
